{
 "cells": [
  {
   "cell_type": "code",
   "execution_count": 1,
   "metadata": {},
   "outputs": [],
   "source": [
    "import pyodbc\n",
    "import os\n",
    "import logging \n",
    "import random\n",
    "from datetime import datetime, timedelta\n",
    "\n",
    "logging.basicConfig(format='%(levelname)s: %(asctime)s => %(message)s', level=logging.INFO)\n",
    "\n",
    "connstr = 'DRIVER={ODBC Driver 17 for SQL Server};SERVER=nas.home.michaelfudge.com,11433;DATABASE=master;UID=sa;PWD=wXp55!929ds'\n",
    "\n",
    "def runSql(sql):\n",
    "    with pyodbc.connect(connstr, autocommit=True) as conn:\n",
    "        commands = sql.split(\"GO\\n\")\n",
    "        for command in commands:\n",
    "            conn.execute(command)\n",
    "\n",
    "def getCursor():\n",
    "    with pyodbc.connect(connstr, autocommit=False) as conn:\n",
    "        return conn.cursor()\n",
    "\n",
    "        \n",
    "def readFileContents(filespec):\n",
    "    with open (filespec,'r') as f:\n",
    "        return f.read()\n",
    "    \n",
    "def initializeDb(dbname, drop=True):\n",
    "    script_path = os.path.join('dbname','sql')\n",
    "    files = os.listdir(script_path)\n",
    "    downscript = [file for file in files if file.startswith(\"dn-0\")][0]\n",
    "    if drop:\n",
    "        print(f\"FILE {downscript}\")\n",
    "        sql = readFileContents(os.path.join(script_path, downscript))\n",
    "        print(sql)\n",
    "        runSql(sql)\n",
    "    upscripts = [file for file in files if file.startswith(\"up-\")]\n",
    "    upscripts.sort()\n",
    "    for script in upscripts:\n",
    "        sql = readFileContents(os.path.join(script_path, script))\n",
    "        print(f\"FILE {script}\")\n",
    "        print(sql)\n",
    "        runSql(sql)\n",
    "        "
   ]
  },
  {
   "cell_type": "code",
   "execution_count": null,
   "metadata": {},
   "outputs": [],
   "source": []
  }
 ],
 "metadata": {
  "kernelspec": {
   "display_name": "Python 3",
   "language": "python",
   "name": "python3"
  },
  "language_info": {
   "codemirror_mode": {
    "name": "ipython",
    "version": 3
   },
   "file_extension": ".py",
   "mimetype": "text/x-python",
   "name": "python",
   "nbconvert_exporter": "python",
   "pygments_lexer": "ipython3",
   "version": "3.6.6"
  },
  "toc": {
   "base_numbering": 1,
   "nav_menu": {},
   "number_sections": false,
   "sideBar": false,
   "skip_h1_title": false,
   "title_cell": "Table of Contents",
   "title_sidebar": "Contents",
   "toc_cell": false,
   "toc_position": {},
   "toc_section_display": false,
   "toc_window_display": false
  }
 },
 "nbformat": 4,
 "nbformat_minor": 2
}
